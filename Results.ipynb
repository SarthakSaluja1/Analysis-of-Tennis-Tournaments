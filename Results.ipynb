{
 "cells": [
  {
   "cell_type": "markdown",
   "metadata": {
    "slideshow": {
     "slide_type": "slide"
    }
   },
   "source": [
    "---\n",
    "\n",
    "## Fifteen Years of Women's Tennis\n",
    "\n",
    "The final assignment asks you to use the computational thinking and programming skills you learned in the course to answer an empirical social science question. You are expected to apply the best practices and theoretical concepts we covered in the course to produce a program that not only returns the correct output but is also legible, modular, and reasonably optimized. The assignment assumes mastery of loops, conditionals, and functions, as well as awareness of issues related to runtime performance.\n",
    "\n",
    "In honor of Emma Raducanu's historical achievements this year, we will study the results of womens' tennis matches over the period 2007-2021. Your objectives are to parse the data, reconstruct tournament brackets, identify the top players, and implement an algorithm to provide an alternative ranking for the players.\n",
    "\n",
    "**NOTE: You are only allowed to use fundamental Python data types (lists, tuples, dictionaries, numpy.ndarray, etc.) to complete this assignment.** You are not allowed to use advanced data querying and data analysis packages such as pandas, sqlite, networkx, or similar. We impose this restriction in order to test your grasp of fundamental programming concepts, not your scripting experience with Python libraries you acquired from prior work or other courses. \n",
    "\n",
    "#### Hints\n",
    "\n",
    "Although this assignment is quite streamlined, imagine that the tasks here are part of a larger project. How would you structure your program if in the future you may need to use a different dataset with similar structure, manipulate the data somewhat differently, add additional analyses, or modify the focus of the current analysis?  \n",
    "\n",
    "Keep different data manipulations in separate functions/methods and group related functions/classes in separate `.py` files. Name your modules in an informative way.\n",
    "\n",
    "Using an object-oriented approach to solve the problems is entirely optional and you will not obtain bonus points for this. If you are not confident in your programming skills, we recommend developing your solution with functions only."
   ]
  },
  {
   "cell_type": "markdown",
   "metadata": {
    "slideshow": {
     "slide_type": "slide"
    }
   },
   "source": [
    "### Data\n",
    "\n",
    "You will find the data in the repository [https://github.com/lse-my470/assignment-final-data.git](https://github.com/lse-my470/assignment-final-data.git). Please clone the data repository in the same directory where you clone the repository `assignment-final-yourgithubname`. Keep the name for the data folder `assignment-final-data`. Any time when you refer to the data in your code, please use a relative path such as `'../assignment-final-data/filename.csv'` instead of an absolute path such as `'/Users/myname/Documents/my470/assignment-final-data/filename.csv'`. This way, we will be able to test your submission with our own copy of the data without having to modify your code.\n",
    "\n",
    "The repository contains fifteen `.csv` files with match results, one file for each year. Each file contains the following variables:\n",
    "\n",
    "* Tournament – the name of the tournament that the match was part of.\n",
    "* Start date – the date when the tournament starts.\n",
    "* End date – the date when the tournament ends.\n",
    "* Best of – 3 means that first player to win 2 sets wins match (all WTA matches are best of 3 sets).\n",
    "* Player 1, Player 2 – names of the players in the match.\n",
    "* Rank 1, Rank 2 – WTA ranks of Player 1 and Player 2 before the start of the tournament. Not all players will have a ranking.\n",
    "* Set 1-3 – result for each set played where the score is shown as: number of games won by Player 1 - number of games won by Player 2. The player that wins the most games in a set wins that set.\n",
    "* Comment\n",
    "  * Completed means match was played.\n",
    "  * Player retired means that the named player withdrew and the other player won by default."
   ]
  },
  {
   "cell_type": "markdown",
   "metadata": {},
   "source": [
    "### 1. Reconstructing the tournaments\n",
    "\n",
    "Tournaments in tennis are typically in knockout format. In each round there are several pairs of fixtures, the winners of each match advance to the next round and the losers are eliminated. The winners then proceed to the next round and the process continues until two players contest the final. Typically, the rounds in the competition go as follows: \\[`First Round`, `Second Round`, ...,\\] `Quarterfinals`, `Semifinals`, `Final`.\n",
    "\n",
    "In some cases, tournaments have a `Round Robin` (also known as all-play-all) group stage, meaning that each player in a group plays against each other player in turn. There are usually two parallel groups with 4 players in each. The top player(s) (i.e. those who won the most matches) in each group advance to a short knockout stage (typically just Semifinals and Final). These tournaments are:\n",
    "\n",
    "* Sony Ericsson Championships 2007-2015\n",
    "* Commonwealth Bank Tournament of Champions 2009\n",
    "* Qatar Airways Tournament of Champions Sofia 2012\n",
    "* Garanti Koza WTA Tournament of Champions 2013-2014\n",
    "* BNP Paribas WTA Finals 2016-2018\n",
    "* WTA Elite Trophy 2015-2019\n",
    "* WTA Finals 2019, 2021\n",
    "\n",
    "Very occasionally, tournaments also include a `Third Place` match too.\n",
    "\n",
    "Your task is to identify the winner in each match and the round in which the match was played. To check your work, please call the procedures you have writen to print the answers to the following questions:\n",
    "\n",
    "* Who won the final of the 2021 Women's US Open?\n",
    "* Who played against whom in the 4th Round of the 2018 French Open? \n",
    "* In which round was Venus Williams eliminated in the 2011 Australian Open?\n",
    "* How many finals has Naomi Osaka played in until now?\n",
    "* How many times have Venus and Serena Williams played against each other and how many of these matches each won?\n",
    "\n",
    "### 2. Winners win\n",
    "\n",
    "One simple and naive way to rank players is to count how many matches they won each year. Write a procedure that estimates this. Then print the three top ranked players for the year 2021 and for the period 2007-2021, together with the total number of matches they won. Higher scores are better, so ranking is the reversed order of most matches won.\n",
    "\n",
    "\n",
    "### 3. Winners don't lose\n",
    "\n",
    "A more sophisticated ranking algorithm will account for the fact that some players may play fewer games (e.g., due to an injury) and that wins in later stages of a tournament (e.g., in the final and semi-final compared to earlier rounds of the competition) are more important. Write another procedure that estimates a player's rank by adding `r` points for every win and subtracting `1/r` for every loss, where `r = 1` for the lowest elimination round of the tournament, `r = 2` for the next round of the tournament, and so on. In other words, `r` starts at 1 and increases for every next elimination round. This way, winning larger competitions brings more points (they have more elimination rounds), wins in later rounds improve one's rank more, and losses in earlier rounds diminish one's rank more. For round-robin stage matches, assume that `r = 1`. \n",
    "\n",
    "Use this measure to print the three top ranked players for the year 2021 and for the period 2007-2021, together with their scores.\n",
    "\n",
    "\n",
    "### 4. Winners beat other winners (WbW)\n",
    "\n",
    "Another idea for ranking players is that winning over better players should count more. However, how we measure a good player depends on whether they beat other good players, so we get into a recursive situation. Do not worry, you will not have to write a recursive procedure here as every recursive solution can be rewritten as iteration! This is what we will do:\n",
    "\n",
    "1. First, count all the players in the given data and assign each a score of 1/n, where n is the number of unique players.\n",
    "\n",
    "2. Then, repeatedly do the following sequence of steps:\n",
    "    1. Each player divides its current score equally among all the matches they have lost and passes these shares onto the players they lost to. If the player never lost, then they pass their current score to themselves. If the player lost two times to a specific individual, then they pass two shares to that individual.   \n",
    "    2. Each player updates their score to be the sum of the shares they receive.    \n",
    "    3. Rescale the score of each player by multiplying it by 0.85 and adding 0.15/n.\n",
    "    \n",
    "3. Repeat the procedure until adjustments are too small to matter. You may need to come up with modifications of the algorithm or the data if the algorithm cannot converge or produces non-sensical results in specific situations.\n",
    "\n",
    "This algorithm essentially starts with a world in which everyone is equally important and then starts to \"pass importance\" iteratively to the winners until an equilibrium is reached.\n",
    "\n",
    "Use this measure, which we will call WbW, to print the three top ranked players for the year 2021 and for the period 2007-2021, together with their scores. \n",
    "\n",
    "\n",
    "### 5. Compare your WbW ranking measure\n",
    "\n",
    "In fact, the data already contain the players' official WTA rank in the variables Rank1 and Rank2, which follows its own [complex procedure](https://en.wikipedia.org/wiki/WTA_Rankings). How well does your WbW ranking correlate with the WTA ranking over time? \n",
    "\n",
    "Use the data from 2007 to estimate the players' WbW ranking at the end of this year. This will give you sufficient data to initialize your estimate. \n",
    "\n",
    "Then, starting with 2008, update your ranking before the start of each tournament, based only on results from tournaments completed in the previous 52 weeks. Use a scatter plot from `matplotlib` to plot the players' WTA ranking on the x-axis against your WbW ranking calculated before the start of the same tournament on the y-axis. If an individual's WTA ranking changes mid-tournament (rare), take their first listed ranking within that tournament. Each point on the plot should be a player's ranking before the start of each tournament for each tournament they participated in from 2008 until now. So the number of points to plot will be the number of unique individuals that took part in each tournament for all tournaments during that period.\n",
    "\n",
    "Write a couple of sentences to note what you observe. You will not be marked for your observations but some reflection is important as it could help you identify problems with your code, for example.\n"
   ]
  },
  {
   "cell_type": "markdown",
   "metadata": {},
   "source": [
    "## Import and run your code here\n",
    "\n",
    "Keep your code in separate `.py` files and then import it in the code cell below. Then call the functions/methods you need to conduct the analysis described above and print the requested outputs. We should be able to run the cell below to calculate again the results and get the requested output, without having to modify your code in any way. "
   ]
  },
  {
   "cell_type": "code",
   "execution_count": 1,
   "metadata": {
    "scrolled": true
   },
   "outputs": [],
   "source": [
    "# Import modules to estimate and show results\n",
    "\n",
    "import csv\n",
    "from datetime import datetime\n",
    "import os\n",
    "import structure_tournaments as structure\n",
    "import tournament_stats as ts\n",
    "import rank_plot\n",
    "import matplotlib.pyplot as plt\n",
    "\n",
    "# Create a list of all files \n",
    "files = os.listdir('../assignment-final-data/')[1:16]\n",
    "\n",
    "# Create a list of all round robin tournaments \n",
    "round_robin = ['Sony Ericsson Championships 2007', \n",
    "               'Sony Ericsson Championships 2008', \n",
    "               'Sony Ericsson Championships 2009', \n",
    "               'Sony Ericsson Championships 2010', \n",
    "               'Sony Ericsson Championships 2011', \n",
    "               'Sony Ericsson Championships 2012', \n",
    "               'Sony Ericsson Championships 2013', \n",
    "               'Sony Ericsson Championships 2014',\n",
    "               'Sony Ericsson Championships 2015', \n",
    "               'Commonwealth Bank Tournament of Champions 2009', \n",
    "               'Qatar Airways Tournament of Champions Sofia 2012', \n",
    "               'Garanti Koza WTA Tournament of Champions 2013',\n",
    "               'Garanti Koza WTA Tournament of Champions 2014', \n",
    "               'BNP Paribas WTA Finals 2016', \n",
    "               'BNP Paribas WTA Finals 2017', \n",
    "               'BNP Paribas WTA Finals 2018', \n",
    "               'WTA Elite Trophy 2015', \n",
    "               'WTA Elite Trophy 2016', \n",
    "               'WTA Elite Trophy 2017', \n",
    "               'WTA Elite Trophy 2018', \n",
    "               'WTA Elite Trophy 2019', \n",
    "               'WTA Finals 2019', \n",
    "               'WTA Finals 2021']\n",
    "\n",
    "\n",
    "def get_data(files) : \n",
    "    '''\n",
    "    To convert rows in data frame into lists and store them all in one list\n",
    "    Assumes a list of '.csv' file \n",
    "    Returns a list with each element list representing a row of the given files\n",
    "    '''\n",
    "    final_list = []\n",
    "    errors = [] # For storing tournaments that have some matches in one year, and rest in the next \n",
    "    for file in files : \n",
    "        file = '../assignment-final-data/' + file\n",
    "        with open(file, 'r') as df :\n",
    "            next(df) \n",
    "            df_reader = csv.reader(df)\n",
    "            for matches in df_reader : \n",
    "                matches[1] = datetime.strptime(matches[1], \"%Y-%m-%d\").date()\n",
    "                matches[2] = datetime.strptime(matches[2], \"%Y-%m-%d\").date()\n",
    "                matches[3] = int(matches[3])\n",
    "                if matches[6] != '' : \n",
    "                    matches[6] = int(float(matches[6]))\n",
    "                if matches[7] != ''  :\n",
    "                    matches[7] = int(float(matches[7]))\n",
    "                \n",
    "                start_date = matches[1]\n",
    "                end_date = matches[2]\n",
    "                condition = (end_date.day == 31 and end_date.month == 12) or ((start_date.month == 1 and start_date.day == 1) and \n",
    "                             (start_date.year != 2007 and start_date.year != 2017)) #Avoid 2017 because two tournaments start on 2017 and dont have matches in 2016\n",
    "                if condition : \n",
    "                    errors.append(matches) \n",
    "                    continue\n",
    "                \n",
    "                final_list.append(matches)\n",
    "\n",
    "    return [final_list, errors]\n",
    "\n",
    "tennis_list = get_data(files)[0]\n",
    "error_list = get_data(files)[1] #Cases that we will isolate. These are the matches that spread across two years in dataset"
   ]
  },
  {
   "cell_type": "code",
   "execution_count": 2,
   "metadata": {},
   "outputs": [
    {
     "name": "stdout",
     "output_type": "stream",
     "text": [
      "The winner of US Open 2021 is Raducanu E.\n",
      "The matchups of 2018 French open are : [['Buzarnescu M.', 'Keys M.'], ['Strycova B.', 'Putintseva Y.'], ['Stephens S.', 'Kontaveit A.'], ['Mertens E.', 'Halep S.'], ['Kasatkina D.', 'Wozniacki C.'], ['Kerber A.', 'Garcia C.'], ['Williams S.', 'Sharapova M.'], ['Tsurenko L.', 'Muguruza G.']]\n",
      "Venus Williams was eliminated in match 3 of 2011 Australian Open\n",
      "Osaka N. has played in  10 finals\n",
      "Serena and Venus have gone against each other in  18 matches.\n",
      "Serena has won : 12 matches\n",
      "Venus has won : 6 matches\n"
     ]
    }
   ],
   "source": [
    "#Ans 1\n",
    "\n",
    "# Normal Cases \n",
    "structure.get_winner(tennis_list) #Modifies tennis list in place to indicate winners\n",
    "grouped_tennis = structure.grouping(tennis_list) #Groups normal cases according to tournament\n",
    "\n",
    "# Tournaments spanning two years\n",
    "structure.get_winner(error_list) #Modifies error list in place to indicate winners\n",
    "corrected_error_list = structure.correct_error_list(error_list) #corrects and returns the error list grouped by tournaments\n",
    "\n",
    "for t in corrected_error_list : #Appends the corrected error list to grouped list\n",
    "    grouped_tennis.append(t)\n",
    "\n",
    "# Round Robins\n",
    "\n",
    "structure.reconstruct_tournament(grouped_tennis, round_robin) # Indicates the round for each round robin match \n",
    "\n",
    "for t in corrected_error_list : #Appends the corrected error list to our tennis list\n",
    "    for m in t : \n",
    "        tennis_list.append(m)\n",
    "\n",
    "# Answers to question 1 \n",
    "\n",
    "#a) \n",
    "for tournament in grouped_tennis[::-1] : \n",
    "    if tournament[0][0] == 'US Open' : \n",
    "        for match in tournament : \n",
    "            if match[-1] == 'Finals' :\n",
    "                winner = match[-2]\n",
    "                print('The winner of US Open 2021 is ' + winner)\n",
    "        break\n",
    "\n",
    "#b) \n",
    "players = []\n",
    "for tournament in grouped_tennis[::-1] : \n",
    "    if tournament[0][0] == 'French Open' and tournament[0][1].year == 2018 :\n",
    "        for match in tournament : \n",
    "            if match[-1] == 4 :\n",
    "                players.append([match[4], match[5]])\n",
    "        break \n",
    "print('The matchups of 2018 French open are :', players)\n",
    "    \n",
    "                \n",
    "#c) \n",
    "for tournament in grouped_tennis : \n",
    "    if tournament[0][0] == 'Australian Open' and tournament[0][1].year == 2011 :\n",
    "        for match in tournament : \n",
    "            players = [match[4] ,match[5]]\n",
    "            if ('Williams V.' in players and 'Williams V.' != match[12]) :\n",
    "                r = match[-1]\n",
    "                break\n",
    "\n",
    "print('Venus Williams was eliminated in match', r, 'of 2011 Australian Open')\n",
    "\n",
    "#d)\n",
    "i=0                \n",
    "for tournament in grouped_tennis :\n",
    "    for match in tournament : \n",
    "        if match[-1] == 'Finals' : \n",
    "            players = [match[4], match[5]]\n",
    "            if 'Osaka N.' in players : \n",
    "                i += 1 \n",
    "print('Osaka N. has played in ', i, 'finals')\n",
    "\n",
    "#e)\n",
    "\n",
    "win_count = {'Serena' : 0, 'Venus' : 0}\n",
    "\n",
    "i = 0\n",
    "for tournament in grouped_tennis :\n",
    "    for match in tournament :  \n",
    "        players = [match[4], match[5]]\n",
    "        if 'Williams S.' in players and 'Williams V.' in players:\n",
    "            i+=1\n",
    "            if match[-2] == 'Williams S.' : \n",
    "                win_count['Serena'] += 1\n",
    "            else : \n",
    "                win_count['Venus'] += 1\n",
    "print('Serena and Venus have gone against each other in ', i, 'matches.')\n",
    "print('Serena has won :', win_count['Serena'], 'matches') \n",
    "print('Venus has won :', win_count['Venus'], 'matches')"
   ]
  },
  {
   "cell_type": "code",
   "execution_count": 3,
   "metadata": {},
   "outputs": [
    {
     "name": "stdout",
     "output_type": "stream",
     "text": [
      "Winners Win top players 2021 :  [('Kontaveit A.', 49), ('Jabeur O.', 48), ('Sabalenka A.', 44)]\n",
      "Winners Win top players Overall :  [('Wozniacki C.', 591), ('Williams S.', 512), ('Radwanska A.', 501)]\n"
     ]
    }
   ],
   "source": [
    "#Ans2\n",
    "tennis_list_2021 = []\n",
    "for tournament in grouped_tennis[::-1] : \n",
    "    if tournament[0][1].year == 2021 : \n",
    "        for match in tournament[::-1] : \n",
    "            tennis_list_2021.append(match)\n",
    "\n",
    "tennis_list_2021 = tennis_list_2021[::-1] #Taking advantage of reversibility of lists to extract relevant data and not downloading file again\n",
    "   \n",
    "wins_rank_2021 = ts.get_wins_rank(tennis_list_2021) # Function that returns ranks of players based on number of wins in 2021\n",
    "\n",
    "wins_rank = ts.get_wins_rank(tennis_list) # Function that returns ranks of players based on number of wins overall\n",
    "\n",
    "print('Winners Win top players 2021 : ', wins_rank_2021[:3])\n",
    "print('Winners Win top players Overall : ', wins_rank[:3])"
   ]
  },
  {
   "cell_type": "code",
   "execution_count": 4,
   "metadata": {},
   "outputs": [
    {
     "name": "stdout",
     "output_type": "stream",
     "text": [
      "Winners Dont lose top players 2021 :  [('Barty A.', 145.79999999999998), ('Sabalenka A.', 115.23333333333333), ('Kontaveit A.', 105.73333333333333)]\n",
      "Winners Dont lose top players overall :  [('Williams S.', 1630.6880952380955), ('Wozniacki C.', 1390.7857142857142), ('Azarenka V.', 1160.0119047619046)]\n"
     ]
    }
   ],
   "source": [
    "#Ans3 \n",
    "\n",
    "total_rounds = ts.tournament_stats(grouped_tennis)[2] # Total rounds of each tournamen\n",
    "\n",
    "grouped_list_2021 = structure.grouping(tennis_list_2021) # Extract tournaments for 2021\n",
    "\n",
    "# Calculate weighted rank \n",
    "round_weighted_rank_2021 = ts.get_weighted_rank(grouped_list_2021, total_rounds) \n",
    "round_weighted_rank = ts.get_weighted_rank(grouped_tennis, total_rounds)\n",
    "\n",
    "print('Winners Dont lose top players 2021 : ', round_weighted_rank_2021[:3])\n",
    "print('Winners Dont lose top players overall : ', round_weighted_rank[:3])"
   ]
  },
  {
   "cell_type": "code",
   "execution_count": 7,
   "metadata": {},
   "outputs": [
    {
     "name": "stdout",
     "output_type": "stream",
     "text": [
      "Winners Beat Winners top players 2021 :  [('Sabalenka A.', 4658.719051292839), ('Muguruza G.', 4108.266039267384), ('Barty A.', 4058.3269560915096)]\n",
      "Winners Beat Winners top players overall :  [('Williams S.', 1.9224724309205423e+35), ('Wozniacki C.', 1.725571831881287e+35), ('Azarenka V.', 1.5183668460502626e+35)]\n"
     ]
    }
   ],
   "source": [
    "#Ans4 \n",
    "\n",
    "# Calculate Winner beat winner rank \n",
    "\n",
    "WbW_rank_2021 = ts.get_WbW_rank(tennis_list_2021)[:3]\n",
    "WbW_rank = ts.get_WbW_rank(tennis_list)[:3]\n",
    "\n",
    "print('Winners Beat Winners top players 2021 : ', WbW_rank_2021[:3])\n",
    "print('Winners Beat Winners top players overall : ', WbW_rank[:3])"
   ]
  },
  {
   "cell_type": "code",
   "execution_count": 8,
   "metadata": {},
   "outputs": [
    {
     "name": "stdout",
     "output_type": "stream",
     "text": [
      " In this plot, we observe that as WTA rankings increase, so do WbW rankings -- for values \n",
      " less than 400. After that we start observing some anomalies, it seems that our WbW ranking does not go beyond 400, \n",
      " whereas WTA rankings can be as large as 1000\n"
     ]
    },
    {
     "data": {
      "image/png": "[encoded data removed]",
      "text/plain": [
       "<Figure size 432x288 with 1 Axes>"
      ]
     },
     "metadata": {
      "needs_background": "light"
     },
     "output_type": "display_data"
    }
   ],
   "source": [
    "#Ans5 \n",
    "import matplotlib.pyplot as plt\n",
    "\n",
    "lst = rank_plot.plot_WTA_vs_WbW(tennis_list)\n",
    "WTA = lst[0]\n",
    "WbW = lst[1]\n",
    "plot = plt.scatter(WTA, WbW)\n",
    "\n",
    "print(' In this plot, we observe that as WTA rankings increase, so do WbW rankings -- for values', '\\n', 'less than 400. After that we start observing some anomalies, it seems that our WbW ranking does not go beyond 400,', '\\n', 'whereas WTA rankings can be as large as 1000')"
   ]
  },
  {
   "cell_type": "markdown",
   "metadata": {},
   "source": [
    "---\n",
    "\n",
    "### Evaluation\n",
    "\n",
    "| Aspect  | Mark     | Comment   \n",
    "|:-------:|:--------:|:----------------------\n",
    "| 1       |   /15    |      \n",
    "| 2       |   /5     |   \n",
    "| 3       |   /10    | \n",
    "| 4       |   /10    | \n",
    "| 5       |   /10     | \n",
    "| Legibility     |   /10    | \n",
    "| Modularity     |   /10    | \n",
    "| Optimization   |   /30    | \n",
    "|**Total**|  **/100**  | \n"
   ]
  }
 ],
 "metadata": {
  "kernelspec": {
   "display_name": "Python 3",
   "language": "python",
   "name": "python3"
  },
  "language_info": {
   "codemirror_mode": {
    "name": "ipython",
    "version": 3
   },
   "file_extension": ".py",
   "mimetype": "text/x-python",
   "name": "python",
   "nbconvert_exporter": "python",
   "pygments_lexer": "ipython3",
   "version": "3.8.3"
  }
 },
 "nbformat": 4,
 "nbformat_minor": 2
}
